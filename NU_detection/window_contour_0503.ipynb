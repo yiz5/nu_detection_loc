{
 "cells": [
  {
   "cell_type": "code",
   "execution_count": 1,
   "metadata": {},
   "outputs": [],
   "source": [
    "import numpy as np\n",
    "import os\n",
    "\n",
    "import random\n",
    "import pandas as pd\n",
    "import math\n",
    "import matplotlib.pyplot as plt\n",
    "import itertools\n",
    "import astropy.units as u\n",
    "import astropy.constants as const\n",
    "import scipy.stats\n"
   ]
  },
  {
   "cell_type": "code",
   "execution_count": 2,
   "metadata": {},
   "outputs": [],
   "source": [
    "import sys\n",
    "\n",
    "from s1s2_0311 import *\n",
    "from read import *\n",
    "from recoil_1223 import *\n",
    "\n",
    "from plot_binned_detection_1d2d_0526 import *"
   ]
  },
  {
   "cell_type": "code",
   "execution_count": 64,
   "metadata": {},
   "outputs": [],
   "source": [
    "\n",
    "folder_2d ='../nu_capture/nestpy_S1S2/'#'../nestpy_unbinned_unbound_thrd0'# \n",
    "nuclei_2d = 'Xenon'\n",
    "footnote = 'thrd'\n",
    "pcle = 'F17'"
   ]
  },
  {
   "cell_type": "code",
   "execution_count": 65,
   "metadata": {},
   "outputs": [
    {
     "data": {
      "text/plain": [
       "'1e+04'"
      ]
     },
     "execution_count": 65,
     "metadata": {},
     "output_type": "execute_result"
    }
   ],
   "source": [
    "numevent = f\"{1e+04:.0e}\" #f\"{5e+06:.0e}\" #str(5002962)#\n",
    "\n",
    "numevent"
   ]
  },
  {
   "cell_type": "code",
   "execution_count": 66,
   "metadata": {},
   "outputs": [],
   "source": [
    "data, eff_num = get_data(folder_2d, pcle, nuclei_2d, numevent, footnote)"
   ]
  },
  {
   "cell_type": "code",
   "execution_count": 67,
   "metadata": {},
   "outputs": [],
   "source": [
    "E, s1phd, s2phd, rmm, zmm, E_true = get_data_component(data, folder_2d)"
   ]
  },
  {
   "cell_type": "code",
   "execution_count": 68,
   "metadata": {},
   "outputs": [],
   "source": [
    "df = pd.DataFrame()"
   ]
  },
  {
   "cell_type": "code",
   "execution_count": 69,
   "metadata": {},
   "outputs": [],
   "source": [
    "df['E[keV]'] = E\n",
    "df['cS1[phd]'] = s1phd\n",
    "df['cS2[phd]'] = s2phd\n",
    "df['Etrue[keV]'] = E_true"
   ]
  },
  {
   "cell_type": "code",
   "execution_count": 70,
   "metadata": {},
   "outputs": [
    {
     "data": {
      "text/plain": [
       "11.529607671895437"
      ]
     },
     "execution_count": 70,
     "metadata": {},
     "output_type": "execute_result"
    }
   ],
   "source": [
    "min(E_true)"
   ]
  },
  {
   "cell_type": "code",
   "execution_count": 71,
   "metadata": {},
   "outputs": [
    {
     "data": {
      "text/html": [
       "<div>\n",
       "<style scoped>\n",
       "    .dataframe tbody tr th:only-of-type {\n",
       "        vertical-align: middle;\n",
       "    }\n",
       "\n",
       "    .dataframe tbody tr th {\n",
       "        vertical-align: top;\n",
       "    }\n",
       "\n",
       "    .dataframe thead th {\n",
       "        text-align: right;\n",
       "    }\n",
       "</style>\n",
       "<table border=\"1\" class=\"dataframe\">\n",
       "  <thead>\n",
       "    <tr style=\"text-align: right;\">\n",
       "      <th></th>\n",
       "      <th>E[keV]</th>\n",
       "      <th>cS1[phd]</th>\n",
       "      <th>cS2[phd]</th>\n",
       "      <th>Etrue[keV]</th>\n",
       "    </tr>\n",
       "  </thead>\n",
       "  <tbody>\n",
       "    <tr>\n",
       "      <th>0</th>\n",
       "      <td>69.628932</td>\n",
       "      <td>582.641499</td>\n",
       "      <td>3.020094e+05</td>\n",
       "      <td>72.660142</td>\n",
       "    </tr>\n",
       "    <tr>\n",
       "      <th>1</th>\n",
       "      <td>187.888557</td>\n",
       "      <td>1241.010530</td>\n",
       "      <td>9.359789e+05</td>\n",
       "      <td>185.619530</td>\n",
       "    </tr>\n",
       "    <tr>\n",
       "      <th>2</th>\n",
       "      <td>448.772193</td>\n",
       "      <td>2633.170521</td>\n",
       "      <td>2.375750e+06</td>\n",
       "      <td>443.949941</td>\n",
       "    </tr>\n",
       "    <tr>\n",
       "      <th>3</th>\n",
       "      <td>75.936632</td>\n",
       "      <td>859.832734</td>\n",
       "      <td>2.548250e+05</td>\n",
       "      <td>79.213912</td>\n",
       "    </tr>\n",
       "    <tr>\n",
       "      <th>4</th>\n",
       "      <td>60.134099</td>\n",
       "      <td>617.008924</td>\n",
       "      <td>2.221251e+05</td>\n",
       "      <td>61.677037</td>\n",
       "    </tr>\n",
       "    <tr>\n",
       "      <th>...</th>\n",
       "      <td>...</td>\n",
       "      <td>...</td>\n",
       "      <td>...</td>\n",
       "      <td>...</td>\n",
       "    </tr>\n",
       "    <tr>\n",
       "      <th>9995</th>\n",
       "      <td>302.415563</td>\n",
       "      <td>2044.349369</td>\n",
       "      <td>1.508233e+06</td>\n",
       "      <td>295.087947</td>\n",
       "    </tr>\n",
       "    <tr>\n",
       "      <th>9996</th>\n",
       "      <td>1191.421363</td>\n",
       "      <td>6317.139240</td>\n",
       "      <td>6.525541e+06</td>\n",
       "      <td>1159.850618</td>\n",
       "    </tr>\n",
       "    <tr>\n",
       "      <th>9997</th>\n",
       "      <td>376.942822</td>\n",
       "      <td>2393.053720</td>\n",
       "      <td>1.935747e+06</td>\n",
       "      <td>371.179490</td>\n",
       "    </tr>\n",
       "    <tr>\n",
       "      <th>9998</th>\n",
       "      <td>138.627209</td>\n",
       "      <td>952.905693</td>\n",
       "      <td>6.750634e+05</td>\n",
       "      <td>136.701260</td>\n",
       "    </tr>\n",
       "    <tr>\n",
       "      <th>9999</th>\n",
       "      <td>0.000000</td>\n",
       "      <td>1512.087296</td>\n",
       "      <td>-1.000000e-06</td>\n",
       "      <td>212.527304</td>\n",
       "    </tr>\n",
       "  </tbody>\n",
       "</table>\n",
       "<p>10000 rows × 4 columns</p>\n",
       "</div>"
      ],
      "text/plain": [
       "           E[keV]     cS1[phd]      cS2[phd]   Etrue[keV]\n",
       "0       69.628932   582.641499  3.020094e+05    72.660142\n",
       "1      187.888557  1241.010530  9.359789e+05   185.619530\n",
       "2      448.772193  2633.170521  2.375750e+06   443.949941\n",
       "3       75.936632   859.832734  2.548250e+05    79.213912\n",
       "4       60.134099   617.008924  2.221251e+05    61.677037\n",
       "...           ...          ...           ...          ...\n",
       "9995   302.415563  2044.349369  1.508233e+06   295.087947\n",
       "9996  1191.421363  6317.139240  6.525541e+06  1159.850618\n",
       "9997   376.942822  2393.053720  1.935747e+06   371.179490\n",
       "9998   138.627209   952.905693  6.750634e+05   136.701260\n",
       "9999     0.000000  1512.087296 -1.000000e-06   212.527304\n",
       "\n",
       "[10000 rows x 4 columns]"
      ]
     },
     "execution_count": 71,
     "metadata": {},
     "output_type": "execute_result"
    }
   ],
   "source": [
    "df"
   ]
  },
  {
   "cell_type": "code",
   "execution_count": 72,
   "metadata": {},
   "outputs": [],
   "source": [
    "file_name = os.path.join(folder_2d, 'S1S2_'+pcle+'.csv')"
   ]
  },
  {
   "cell_type": "code",
   "execution_count": 73,
   "metadata": {},
   "outputs": [
    {
     "data": {
      "text/plain": [
       "'../nu_capture/nestpy_S1S2/S1S2_F17.csv'"
      ]
     },
     "execution_count": 73,
     "metadata": {},
     "output_type": "execute_result"
    }
   ],
   "source": [
    "file_name"
   ]
  },
  {
   "cell_type": "code",
   "execution_count": 74,
   "metadata": {},
   "outputs": [],
   "source": [
    "df.to_csv(file_name, index = False)"
   ]
  },
  {
   "cell_type": "code",
   "execution_count": 5,
   "metadata": {},
   "outputs": [],
   "source": [
    "dataf = pd.read_csv(file_name)"
   ]
  },
  {
   "cell_type": "code",
   "execution_count": 6,
   "metadata": {},
   "outputs": [],
   "source": [
    "eff_num =len(dataf)"
   ]
  },
  {
   "cell_type": "code",
   "execution_count": 7,
   "metadata": {},
   "outputs": [
    {
     "data": {
      "text/html": [
       "<div>\n",
       "<style scoped>\n",
       "    .dataframe tbody tr th:only-of-type {\n",
       "        vertical-align: middle;\n",
       "    }\n",
       "\n",
       "    .dataframe tbody tr th {\n",
       "        vertical-align: top;\n",
       "    }\n",
       "\n",
       "    .dataframe thead th {\n",
       "        text-align: right;\n",
       "    }\n",
       "</style>\n",
       "<table border=\"1\" class=\"dataframe\">\n",
       "  <thead>\n",
       "    <tr style=\"text-align: right;\">\n",
       "      <th></th>\n",
       "      <th>E[keV]</th>\n",
       "      <th>cS1[phd]</th>\n",
       "      <th>cS2[phd]</th>\n",
       "      <th>Etrue[keV]</th>\n",
       "    </tr>\n",
       "  </thead>\n",
       "  <tbody>\n",
       "    <tr>\n",
       "      <th>0</th>\n",
       "      <td>0.000000</td>\n",
       "      <td>-1.117419</td>\n",
       "      <td>-0.000001</td>\n",
       "      <td>1.326971</td>\n",
       "    </tr>\n",
       "    <tr>\n",
       "      <th>1</th>\n",
       "      <td>0.000000</td>\n",
       "      <td>-0.857414</td>\n",
       "      <td>1842.770536</td>\n",
       "      <td>2.566823</td>\n",
       "    </tr>\n",
       "    <tr>\n",
       "      <th>2</th>\n",
       "      <td>0.000000</td>\n",
       "      <td>-0.000001</td>\n",
       "      <td>-0.000001</td>\n",
       "      <td>0.197093</td>\n",
       "    </tr>\n",
       "    <tr>\n",
       "      <th>3</th>\n",
       "      <td>0.000000</td>\n",
       "      <td>-0.000001</td>\n",
       "      <td>1405.399869</td>\n",
       "      <td>2.424745</td>\n",
       "    </tr>\n",
       "    <tr>\n",
       "      <th>4</th>\n",
       "      <td>4.786444</td>\n",
       "      <td>8.768566</td>\n",
       "      <td>2913.158033</td>\n",
       "      <td>5.591216</td>\n",
       "    </tr>\n",
       "    <tr>\n",
       "      <th>...</th>\n",
       "      <td>...</td>\n",
       "      <td>...</td>\n",
       "      <td>...</td>\n",
       "      <td>...</td>\n",
       "    </tr>\n",
       "    <tr>\n",
       "      <th>10000001</th>\n",
       "      <td>0.000000</td>\n",
       "      <td>-0.000001</td>\n",
       "      <td>271.425158</td>\n",
       "      <td>0.322005</td>\n",
       "    </tr>\n",
       "    <tr>\n",
       "      <th>10000002</th>\n",
       "      <td>3.451963</td>\n",
       "      <td>4.799894</td>\n",
       "      <td>2493.266060</td>\n",
       "      <td>3.239630</td>\n",
       "    </tr>\n",
       "    <tr>\n",
       "      <th>10000003</th>\n",
       "      <td>1.971128</td>\n",
       "      <td>3.738179</td>\n",
       "      <td>946.487212</td>\n",
       "      <td>2.553992</td>\n",
       "    </tr>\n",
       "    <tr>\n",
       "      <th>10000004</th>\n",
       "      <td>2.684092</td>\n",
       "      <td>2.167788</td>\n",
       "      <td>2403.180124</td>\n",
       "      <td>3.557086</td>\n",
       "    </tr>\n",
       "    <tr>\n",
       "      <th>10000005</th>\n",
       "      <td>5.282585</td>\n",
       "      <td>7.607089</td>\n",
       "      <td>4001.528312</td>\n",
       "      <td>4.275935</td>\n",
       "    </tr>\n",
       "  </tbody>\n",
       "</table>\n",
       "<p>10000006 rows × 4 columns</p>\n",
       "</div>"
      ],
      "text/plain": [
       "            E[keV]  cS1[phd]     cS2[phd]  Etrue[keV]\n",
       "0         0.000000 -1.117419    -0.000001    1.326971\n",
       "1         0.000000 -0.857414  1842.770536    2.566823\n",
       "2         0.000000 -0.000001    -0.000001    0.197093\n",
       "3         0.000000 -0.000001  1405.399869    2.424745\n",
       "4         4.786444  8.768566  2913.158033    5.591216\n",
       "...            ...       ...          ...         ...\n",
       "10000001  0.000000 -0.000001   271.425158    0.322005\n",
       "10000002  3.451963  4.799894  2493.266060    3.239630\n",
       "10000003  1.971128  3.738179   946.487212    2.553992\n",
       "10000004  2.684092  2.167788  2403.180124    3.557086\n",
       "10000005  5.282585  7.607089  4001.528312    4.275935\n",
       "\n",
       "[10000006 rows x 4 columns]"
      ]
     },
     "execution_count": 7,
     "metadata": {},
     "output_type": "execute_result"
    }
   ],
   "source": [
    "dataf"
   ]
  },
  {
   "cell_type": "code",
   "execution_count": 8,
   "metadata": {},
   "outputs": [],
   "source": [
    "s1 = dataf.loc[(dataf['cS1[phd]'] > 0 ) & (dataf['cS2[phd]']>0) ]['cS1[phd]']\n",
    "log10s2 = np.log10(dataf.loc[(dataf['cS1[phd]'] > 0 ) & (dataf['cS2[phd]']>0) ]['cS2[phd]'])\n",
    "Etrue = dataf.loc[(dataf['cS1[phd]'] > 0 ) & (dataf['cS2[phd]']>0) ]['Etrue[keV]']"
   ]
  },
  {
   "cell_type": "code",
   "execution_count": 11,
   "metadata": {},
   "outputs": [
    {
     "data": {
      "text/plain": [
       "0.2236111424030764"
      ]
     },
     "execution_count": 11,
     "metadata": {},
     "output_type": "execute_result"
    }
   ],
   "source": [
    "min(Etrue)"
   ]
  },
  {
   "cell_type": "code",
   "execution_count": null,
   "metadata": {},
   "outputs": [],
   "source": [
    "Er_keV, pdf = read_pcle_pdf(pcle, nuclei, eff_type, recoil_type = '', metallicity_model = 'high', \n",
    "                                    ebinding = True, plot = False, corr = corr)"
   ]
  },
  {
   "cell_type": "code",
   "execution_count": 14,
   "metadata": {},
   "outputs": [
    {
     "name": "stdout",
     "output_type": "stream",
     "text": [
      "NR\n",
      "survival\n"
     ]
    },
    {
     "data": {
      "text/latex": [
       "$0.054630257 \\; \\mathrm{\\frac{1}{t\\,yr}}$"
      ],
      "text/plain": [
       "<Quantity 0.05463026 1 / (t yr)>"
      ]
     },
     "execution_count": 14,
     "metadata": {},
     "output_type": "execute_result"
    },
    {
     "data": {
      "image/png": "[encoded data removed]",
      "text/plain": [
       "<Figure size 432x288 with 1 Axes>"
      ]
     },
     "metadata": {
      "needs_background": "light"
     },
     "output_type": "display_data"
    }
   ],
   "source": [
    "E_threshold_keV = 0\n",
    " \n",
    "eventR, E_endpt, Er_keV, pdf, _, _ = read_pcle_cdf(pcle, nuclei_2d, E_threshold_keV, '', recoil_type = '',\n",
    "                  read_pdf = True, Er_keV = 0, pdf = 0, endpt = -1, metallicity = 'high', ebind = True, plot_pdf = True, corr = '')\n",
    "eventR"
   ]
  },
  {
   "cell_type": "code",
   "execution_count": 16,
   "metadata": {},
   "outputs": [
    {
     "data": {
      "image/png": "[encoded data removed]",
      "text/plain": [
       "<Figure size 432x288 with 1 Axes>"
      ]
     },
     "metadata": {
      "needs_background": "light"
     },
     "output_type": "display_data"
    }
   ],
   "source": [
    "counts, bins = np.histogram(dataf['Etrue[keV]'], 50)\n",
    "plt.bar(bins[:-1], counts/len(dataf) * eventR.value, np.diff(bins), alpha = 0.2)\n",
    "plt.plot(Er_keV, pdf\n",
    "        )\n",
    "plt.xscale('log')\n",
    "plt.yscale('log')"
   ]
  },
  {
   "cell_type": "code",
   "execution_count": 27,
   "metadata": {},
   "outputs": [
    {
     "data": {
      "text/plain": [
       "array([  1.06937,   1.20356,   1.35459,   1.52458,   1.7159 ,   1.93122,\n",
       "         2.17357,   2.44633,   2.75332,   3.09883,   3.48769,   3.92536,\n",
       "         4.41795,   4.97235,   5.59632,   6.2986 ,   7.089  ,   7.97859,\n",
       "         8.97981,  10.10668,  11.37495,  12.80238,  14.40893,  16.21709,\n",
       "        18.25215,  20.54259,  23.12045,  26.02181,  29.28725,  32.96247,\n",
       "        37.09889,  41.75438,  46.99408,  52.89131,  59.52857,  66.99873,\n",
       "        75.40631,  84.86895,  95.51904, 107.5056 ])"
      ]
     },
     "execution_count": 27,
     "metadata": {},
     "output_type": "execute_result"
    }
   ],
   "source": [
    "Er_keV"
   ]
  },
  {
   "cell_type": "code",
   "execution_count": 30,
   "metadata": {},
   "outputs": [
    {
     "data": {
      "image/png": "[encoded data removed]",
      "text/plain": [
       "<Figure size 432x432 with 1 Axes>"
      ]
     },
     "metadata": {
      "needs_background": "light"
     },
     "output_type": "display_data"
    }
   ],
   "source": [
    "binnumberx, binnumbery =100,100\n",
    "\n",
    "DT = 100*u.tonne*u.yr\n",
    "fig, ax= plt.subplots(figsize = (6,6))\n",
    "\n",
    "_,xbins, ybins= np.histogram2d(s1, log10s2)\n",
    "\n",
    "counts,xbins, ybins= np.histogram2d(s1, log10s2, bins =[binnumberx, binnumbery]\n",
    "#                                   , range = [[20, np.ceil(max(xbins))], [3.6, np.ceil(max(ybins))]]\n",
    "                                   )\n",
    "counts_normed = counts/eff_num\n",
    "counts_pertyr = counts_normed * eventR \n",
    "counts_num = counts_pertyr *DT\n",
    "\n",
    "\n",
    "xbins_centers = (xbins[1:]+xbins[:-1])/2\n",
    "ybins_centers = (ybins[1:]+ybins[:-1])/2\n",
    "\n",
    "cp =ax.contour(xbins_centers, ybins_centers, counts_num.T)\n",
    "ax.clabel(cp, inline=True, fontsize=12)\n",
    "\n",
    "ax = setup_cdfpdf_ax(ax,pcle + ' '+str(DT), 'cs1', 'log10(cs2)', True, '', 20, 20, \n",
    "            vlines = [0], hlines = [0], \n",
    "                 xlims = [0,0], ylims = [0,0], log = [0,0])\n"
   ]
  },
  {
   "cell_type": "code",
   "execution_count": 45,
   "metadata": {},
   "outputs": [],
   "source": [
    "counts_num_pd = pd.DataFrame(counts_num.T)"
   ]
  },
  {
   "cell_type": "code",
   "execution_count": 46,
   "metadata": {},
   "outputs": [
    {
     "data": {
      "text/html": [
       "<div>\n",
       "<style scoped>\n",
       "    .dataframe tbody tr th:only-of-type {\n",
       "        vertical-align: middle;\n",
       "    }\n",
       "\n",
       "    .dataframe tbody tr th {\n",
       "        vertical-align: top;\n",
       "    }\n",
       "\n",
       "    .dataframe thead th {\n",
       "        text-align: right;\n",
       "    }\n",
       "</style>\n",
       "<table border=\"1\" class=\"dataframe\">\n",
       "  <thead>\n",
       "    <tr style=\"text-align: right;\">\n",
       "      <th></th>\n",
       "      <th>0</th>\n",
       "      <th>1</th>\n",
       "      <th>2</th>\n",
       "      <th>3</th>\n",
       "      <th>4</th>\n",
       "      <th>5</th>\n",
       "      <th>6</th>\n",
       "      <th>7</th>\n",
       "      <th>8</th>\n",
       "      <th>9</th>\n",
       "      <th>...</th>\n",
       "      <th>90</th>\n",
       "      <th>91</th>\n",
       "      <th>92</th>\n",
       "      <th>93</th>\n",
       "      <th>94</th>\n",
       "      <th>95</th>\n",
       "      <th>96</th>\n",
       "      <th>97</th>\n",
       "      <th>98</th>\n",
       "      <th>99</th>\n",
       "    </tr>\n",
       "  </thead>\n",
       "  <tbody>\n",
       "    <tr>\n",
       "      <th>0</th>\n",
       "      <td>0.000006</td>\n",
       "      <td>1.398624e-06</td>\n",
       "      <td>0.0</td>\n",
       "      <td>0.0</td>\n",
       "      <td>0.0</td>\n",
       "      <td>0.0</td>\n",
       "      <td>0.0</td>\n",
       "      <td>0.0</td>\n",
       "      <td>0.0</td>\n",
       "      <td>0.0</td>\n",
       "      <td>...</td>\n",
       "      <td>0.000000</td>\n",
       "      <td>0.000000</td>\n",
       "      <td>0.000000e+00</td>\n",
       "      <td>0.0</td>\n",
       "      <td>0.0</td>\n",
       "      <td>0.000000e+00</td>\n",
       "      <td>0.000000e+00</td>\n",
       "      <td>0.000000e+00</td>\n",
       "      <td>0.0</td>\n",
       "      <td>0.0</td>\n",
       "    </tr>\n",
       "    <tr>\n",
       "      <th>1</th>\n",
       "      <td>0.000006</td>\n",
       "      <td>0.000000e+00</td>\n",
       "      <td>0.0</td>\n",
       "      <td>0.0</td>\n",
       "      <td>0.0</td>\n",
       "      <td>0.0</td>\n",
       "      <td>0.0</td>\n",
       "      <td>0.0</td>\n",
       "      <td>0.0</td>\n",
       "      <td>0.0</td>\n",
       "      <td>...</td>\n",
       "      <td>0.000000</td>\n",
       "      <td>0.000000</td>\n",
       "      <td>0.000000e+00</td>\n",
       "      <td>0.0</td>\n",
       "      <td>0.0</td>\n",
       "      <td>0.000000e+00</td>\n",
       "      <td>0.000000e+00</td>\n",
       "      <td>0.000000e+00</td>\n",
       "      <td>0.0</td>\n",
       "      <td>0.0</td>\n",
       "    </tr>\n",
       "    <tr>\n",
       "      <th>2</th>\n",
       "      <td>0.000025</td>\n",
       "      <td>1.398624e-06</td>\n",
       "      <td>0.0</td>\n",
       "      <td>0.0</td>\n",
       "      <td>0.0</td>\n",
       "      <td>0.0</td>\n",
       "      <td>0.0</td>\n",
       "      <td>0.0</td>\n",
       "      <td>0.0</td>\n",
       "      <td>0.0</td>\n",
       "      <td>...</td>\n",
       "      <td>0.000000</td>\n",
       "      <td>0.000000</td>\n",
       "      <td>0.000000e+00</td>\n",
       "      <td>0.0</td>\n",
       "      <td>0.0</td>\n",
       "      <td>0.000000e+00</td>\n",
       "      <td>0.000000e+00</td>\n",
       "      <td>0.000000e+00</td>\n",
       "      <td>0.0</td>\n",
       "      <td>0.0</td>\n",
       "    </tr>\n",
       "    <tr>\n",
       "      <th>3</th>\n",
       "      <td>0.000041</td>\n",
       "      <td>1.398624e-06</td>\n",
       "      <td>0.0</td>\n",
       "      <td>0.0</td>\n",
       "      <td>0.0</td>\n",
       "      <td>0.0</td>\n",
       "      <td>0.0</td>\n",
       "      <td>0.0</td>\n",
       "      <td>0.0</td>\n",
       "      <td>0.0</td>\n",
       "      <td>...</td>\n",
       "      <td>0.000000</td>\n",
       "      <td>0.000000</td>\n",
       "      <td>0.000000e+00</td>\n",
       "      <td>0.0</td>\n",
       "      <td>0.0</td>\n",
       "      <td>0.000000e+00</td>\n",
       "      <td>0.000000e+00</td>\n",
       "      <td>0.000000e+00</td>\n",
       "      <td>0.0</td>\n",
       "      <td>0.0</td>\n",
       "    </tr>\n",
       "    <tr>\n",
       "      <th>4</th>\n",
       "      <td>0.000043</td>\n",
       "      <td>6.993120e-07</td>\n",
       "      <td>0.0</td>\n",
       "      <td>0.0</td>\n",
       "      <td>0.0</td>\n",
       "      <td>0.0</td>\n",
       "      <td>0.0</td>\n",
       "      <td>0.0</td>\n",
       "      <td>0.0</td>\n",
       "      <td>0.0</td>\n",
       "      <td>...</td>\n",
       "      <td>0.000000</td>\n",
       "      <td>0.000000</td>\n",
       "      <td>0.000000e+00</td>\n",
       "      <td>0.0</td>\n",
       "      <td>0.0</td>\n",
       "      <td>0.000000e+00</td>\n",
       "      <td>0.000000e+00</td>\n",
       "      <td>0.000000e+00</td>\n",
       "      <td>0.0</td>\n",
       "      <td>0.0</td>\n",
       "    </tr>\n",
       "    <tr>\n",
       "      <th>...</th>\n",
       "      <td>...</td>\n",
       "      <td>...</td>\n",
       "      <td>...</td>\n",
       "      <td>...</td>\n",
       "      <td>...</td>\n",
       "      <td>...</td>\n",
       "      <td>...</td>\n",
       "      <td>...</td>\n",
       "      <td>...</td>\n",
       "      <td>...</td>\n",
       "      <td>...</td>\n",
       "      <td>...</td>\n",
       "      <td>...</td>\n",
       "      <td>...</td>\n",
       "      <td>...</td>\n",
       "      <td>...</td>\n",
       "      <td>...</td>\n",
       "      <td>...</td>\n",
       "      <td>...</td>\n",
       "      <td>...</td>\n",
       "      <td>...</td>\n",
       "    </tr>\n",
       "    <tr>\n",
       "      <th>95</th>\n",
       "      <td>0.000000</td>\n",
       "      <td>0.000000e+00</td>\n",
       "      <td>0.0</td>\n",
       "      <td>0.0</td>\n",
       "      <td>0.0</td>\n",
       "      <td>0.0</td>\n",
       "      <td>0.0</td>\n",
       "      <td>0.0</td>\n",
       "      <td>0.0</td>\n",
       "      <td>0.0</td>\n",
       "      <td>...</td>\n",
       "      <td>0.000002</td>\n",
       "      <td>0.000003</td>\n",
       "      <td>0.000000e+00</td>\n",
       "      <td>0.0</td>\n",
       "      <td>0.0</td>\n",
       "      <td>6.993120e-07</td>\n",
       "      <td>6.993120e-07</td>\n",
       "      <td>0.000000e+00</td>\n",
       "      <td>0.0</td>\n",
       "      <td>0.0</td>\n",
       "    </tr>\n",
       "    <tr>\n",
       "      <th>96</th>\n",
       "      <td>0.000000</td>\n",
       "      <td>0.000000e+00</td>\n",
       "      <td>0.0</td>\n",
       "      <td>0.0</td>\n",
       "      <td>0.0</td>\n",
       "      <td>0.0</td>\n",
       "      <td>0.0</td>\n",
       "      <td>0.0</td>\n",
       "      <td>0.0</td>\n",
       "      <td>0.0</td>\n",
       "      <td>...</td>\n",
       "      <td>0.000000</td>\n",
       "      <td>0.000000</td>\n",
       "      <td>6.993120e-07</td>\n",
       "      <td>0.0</td>\n",
       "      <td>0.0</td>\n",
       "      <td>0.000000e+00</td>\n",
       "      <td>0.000000e+00</td>\n",
       "      <td>6.993120e-07</td>\n",
       "      <td>0.0</td>\n",
       "      <td>0.0</td>\n",
       "    </tr>\n",
       "    <tr>\n",
       "      <th>97</th>\n",
       "      <td>0.000000</td>\n",
       "      <td>0.000000e+00</td>\n",
       "      <td>0.0</td>\n",
       "      <td>0.0</td>\n",
       "      <td>0.0</td>\n",
       "      <td>0.0</td>\n",
       "      <td>0.0</td>\n",
       "      <td>0.0</td>\n",
       "      <td>0.0</td>\n",
       "      <td>0.0</td>\n",
       "      <td>...</td>\n",
       "      <td>0.000000</td>\n",
       "      <td>0.000000</td>\n",
       "      <td>0.000000e+00</td>\n",
       "      <td>0.0</td>\n",
       "      <td>0.0</td>\n",
       "      <td>0.000000e+00</td>\n",
       "      <td>0.000000e+00</td>\n",
       "      <td>0.000000e+00</td>\n",
       "      <td>0.0</td>\n",
       "      <td>0.0</td>\n",
       "    </tr>\n",
       "    <tr>\n",
       "      <th>98</th>\n",
       "      <td>0.000000</td>\n",
       "      <td>0.000000e+00</td>\n",
       "      <td>0.0</td>\n",
       "      <td>0.0</td>\n",
       "      <td>0.0</td>\n",
       "      <td>0.0</td>\n",
       "      <td>0.0</td>\n",
       "      <td>0.0</td>\n",
       "      <td>0.0</td>\n",
       "      <td>0.0</td>\n",
       "      <td>...</td>\n",
       "      <td>0.000000</td>\n",
       "      <td>0.000000</td>\n",
       "      <td>0.000000e+00</td>\n",
       "      <td>0.0</td>\n",
       "      <td>0.0</td>\n",
       "      <td>0.000000e+00</td>\n",
       "      <td>0.000000e+00</td>\n",
       "      <td>0.000000e+00</td>\n",
       "      <td>0.0</td>\n",
       "      <td>0.0</td>\n",
       "    </tr>\n",
       "    <tr>\n",
       "      <th>99</th>\n",
       "      <td>0.000000</td>\n",
       "      <td>0.000000e+00</td>\n",
       "      <td>0.0</td>\n",
       "      <td>0.0</td>\n",
       "      <td>0.0</td>\n",
       "      <td>0.0</td>\n",
       "      <td>0.0</td>\n",
       "      <td>0.0</td>\n",
       "      <td>0.0</td>\n",
       "      <td>0.0</td>\n",
       "      <td>...</td>\n",
       "      <td>0.000000</td>\n",
       "      <td>0.000000</td>\n",
       "      <td>0.000000e+00</td>\n",
       "      <td>0.0</td>\n",
       "      <td>0.0</td>\n",
       "      <td>0.000000e+00</td>\n",
       "      <td>0.000000e+00</td>\n",
       "      <td>0.000000e+00</td>\n",
       "      <td>0.0</td>\n",
       "      <td>0.0</td>\n",
       "    </tr>\n",
       "  </tbody>\n",
       "</table>\n",
       "<p>100 rows × 100 columns</p>\n",
       "</div>"
      ],
      "text/plain": [
       "          0             1    2    3    4    5    6    7    8    9   ...  \\\n",
       "0   0.000006  1.398624e-06  0.0  0.0  0.0  0.0  0.0  0.0  0.0  0.0  ...   \n",
       "1   0.000006  0.000000e+00  0.0  0.0  0.0  0.0  0.0  0.0  0.0  0.0  ...   \n",
       "2   0.000025  1.398624e-06  0.0  0.0  0.0  0.0  0.0  0.0  0.0  0.0  ...   \n",
       "3   0.000041  1.398624e-06  0.0  0.0  0.0  0.0  0.0  0.0  0.0  0.0  ...   \n",
       "4   0.000043  6.993120e-07  0.0  0.0  0.0  0.0  0.0  0.0  0.0  0.0  ...   \n",
       "..       ...           ...  ...  ...  ...  ...  ...  ...  ...  ...  ...   \n",
       "95  0.000000  0.000000e+00  0.0  0.0  0.0  0.0  0.0  0.0  0.0  0.0  ...   \n",
       "96  0.000000  0.000000e+00  0.0  0.0  0.0  0.0  0.0  0.0  0.0  0.0  ...   \n",
       "97  0.000000  0.000000e+00  0.0  0.0  0.0  0.0  0.0  0.0  0.0  0.0  ...   \n",
       "98  0.000000  0.000000e+00  0.0  0.0  0.0  0.0  0.0  0.0  0.0  0.0  ...   \n",
       "99  0.000000  0.000000e+00  0.0  0.0  0.0  0.0  0.0  0.0  0.0  0.0  ...   \n",
       "\n",
       "          90        91            92   93   94            95            96  \\\n",
       "0   0.000000  0.000000  0.000000e+00  0.0  0.0  0.000000e+00  0.000000e+00   \n",
       "1   0.000000  0.000000  0.000000e+00  0.0  0.0  0.000000e+00  0.000000e+00   \n",
       "2   0.000000  0.000000  0.000000e+00  0.0  0.0  0.000000e+00  0.000000e+00   \n",
       "3   0.000000  0.000000  0.000000e+00  0.0  0.0  0.000000e+00  0.000000e+00   \n",
       "4   0.000000  0.000000  0.000000e+00  0.0  0.0  0.000000e+00  0.000000e+00   \n",
       "..       ...       ...           ...  ...  ...           ...           ...   \n",
       "95  0.000002  0.000003  0.000000e+00  0.0  0.0  6.993120e-07  6.993120e-07   \n",
       "96  0.000000  0.000000  6.993120e-07  0.0  0.0  0.000000e+00  0.000000e+00   \n",
       "97  0.000000  0.000000  0.000000e+00  0.0  0.0  0.000000e+00  0.000000e+00   \n",
       "98  0.000000  0.000000  0.000000e+00  0.0  0.0  0.000000e+00  0.000000e+00   \n",
       "99  0.000000  0.000000  0.000000e+00  0.0  0.0  0.000000e+00  0.000000e+00   \n",
       "\n",
       "              97   98   99  \n",
       "0   0.000000e+00  0.0  0.0  \n",
       "1   0.000000e+00  0.0  0.0  \n",
       "2   0.000000e+00  0.0  0.0  \n",
       "3   0.000000e+00  0.0  0.0  \n",
       "4   0.000000e+00  0.0  0.0  \n",
       "..           ...  ...  ...  \n",
       "95  0.000000e+00  0.0  0.0  \n",
       "96  6.993120e-07  0.0  0.0  \n",
       "97  0.000000e+00  0.0  0.0  \n",
       "98  0.000000e+00  0.0  0.0  \n",
       "99  0.000000e+00  0.0  0.0  \n",
       "\n",
       "[100 rows x 100 columns]"
      ]
     },
     "execution_count": 46,
     "metadata": {},
     "output_type": "execute_result"
    }
   ],
   "source": [
    "counts_num_pd"
   ]
  },
  {
   "cell_type": "code",
   "execution_count": 47,
   "metadata": {},
   "outputs": [
    {
     "data": {
      "text/latex": [
       "$0.03969085 \\; \\mathrm{}$"
      ],
      "text/plain": [
       "<Quantity 0.03969085>"
      ]
     },
     "execution_count": 47,
     "metadata": {},
     "output_type": "execute_result"
    }
   ],
   "source": [
    "peak_density = counts_num.max()\n",
    "peak_density"
   ]
  },
  {
   "cell_type": "code",
   "execution_count": 48,
   "metadata": {},
   "outputs": [
    {
     "data": {
      "text/plain": [
       "(1, 59)"
      ]
     },
     "execution_count": 48,
     "metadata": {},
     "output_type": "execute_result"
    }
   ],
   "source": [
    "peak_index = tuple(np.argwhere(counts_num == peak_density)[0])\n",
    "peak_index"
   ]
  },
  {
   "cell_type": "code",
   "execution_count": 49,
   "metadata": {},
   "outputs": [
    {
     "data": {
      "text/plain": [
       "0.03969085018628322"
      ]
     },
     "execution_count": 49,
     "metadata": {},
     "output_type": "execute_result"
    }
   ],
   "source": [
    "counts_num_pd = pd.DataFrame(counts_num)\n",
    "counts_num_pd.iat[peak_index]"
   ]
  },
  {
   "cell_type": "code",
   "execution_count": 50,
   "metadata": {},
   "outputs": [
    {
     "data": {
      "text/plain": [
       "(100, 100)"
      ]
     },
     "execution_count": 50,
     "metadata": {},
     "output_type": "execute_result"
    }
   ],
   "source": [
    "tot_s1bins, tot_s2bins = counts_num_pd.shape\n",
    "tot_s1bins, tot_s2bins"
   ]
  },
  {
   "cell_type": "code",
   "execution_count": 51,
   "metadata": {},
   "outputs": [
    {
     "data": {
      "text/plain": [
       "5.620285785969778"
      ]
     },
     "execution_count": 51,
     "metadata": {},
     "output_type": "execute_result"
    }
   ],
   "source": [
    "sum(counts_num_pd.to_numpy().flatten()) "
   ]
  },
  {
   "cell_type": "code",
   "execution_count": 56,
   "metadata": {},
   "outputs": [],
   "source": [
    "start_idc = peak_index#(60,50) # \n",
    "exceed_num_thrd = 1."
   ]
  },
  {
   "cell_type": "code",
   "execution_count": 57,
   "metadata": {
    "scrolled": true
   },
   "outputs": [
    {
     "name": "stdout",
     "output_type": "stream",
     "text": [
      "start at (1, 59) 0.2577468159849671 \n",
      "\n",
      "start at (1, 59) 0.4833126931628729 \n",
      "\n",
      "start at (1, 59) 0.7049043803446786 \n",
      "\n",
      "start at (1, 59) 0.9197665883196446 \n",
      "\n",
      "start at (1, 59) 1.131551823571957 \n",
      "\n"
     ]
    },
    {
     "data": {
      "image/png": "[encoded data removed]",
      "text/plain": [
       "<Figure size 432x432 with 1 Axes>"
      ]
     },
     "metadata": {
      "needs_background": "light"
     },
     "output_type": "display_data"
    }
   ],
   "source": [
    "summation, (xmin, xmax), (ymin, ymax) = get_grid_index(counts_num_pd,start_idc, exceed_num_thrd, \n",
    "                                                       plot=True, plot_contour = True,print_check = False, plot_maxDFsize =10001)"
   ]
  },
  {
   "cell_type": "code",
   "execution_count": 58,
   "metadata": {},
   "outputs": [
    {
     "name": "stdout",
     "output_type": "stream",
     "text": [
      "1.1315518235719568 1.131551823571957 (0, 6) (54, 64) [60]\n"
     ]
    },
    {
     "data": {
      "text/plain": [
       "(array([ 3.14895537,  7.38768701, 11.62641866, 15.8651503 , 20.10388194,\n",
       "        24.34261359]),\n",
       " array([3.3910494 , 3.41715032, 3.44325125, 3.46935217, 3.49545309,\n",
       "        3.52155401, 3.54765493, 3.57375586, 3.59985678, 3.6259577 ]))"
      ]
     },
     "execution_count": 58,
     "metadata": {},
     "output_type": "execute_result"
    }
   ],
   "source": [
    "print(sum(counts_num_pd.loc[xmin: xmax, ymin: ymax].to_numpy().flatten()), summation,\n",
    "     (xmin, xmax), (ymin, ymax), np.diff((xmin, xmax))*np.diff((ymin, ymax)))\n",
    "\n",
    "#counts_num_pd.loc[xmin: xmax, ymin: ymax]\n",
    "xbins_centers[xmin: xmax], ybins_centers[ymin: ymax]"
   ]
  },
  {
   "cell_type": "code",
   "execution_count": 59,
   "metadata": {},
   "outputs": [
    {
     "data": {
      "text/plain": [
       "[<matplotlib.lines.Line2D at 0x7f7280e45850>]"
      ]
     },
     "execution_count": 59,
     "metadata": {},
     "output_type": "execute_result"
    },
    {
     "data": {
      "image/png": "[encoded data removed]",
      "text/plain": [
       "<Figure size 432x432 with 1 Axes>"
      ]
     },
     "metadata": {
      "needs_background": "light"
     },
     "output_type": "display_data"
    }
   ],
   "source": [
    "fig, ax = plt.subplots(figsize = (6,6))\n",
    "total_subbins = np.diff((xmin, xmax))*np.diff((ymin, ymax))[0]\n",
    "ax = setup_cdfpdf_ax(ax,pcle+', '+str(DT)+', total_subbins = '+str(int(total_subbins)), 's1', 'log10s2', True, '', 20, 20, \n",
    "                vlines = [0], hlines = [0], \n",
    "                     xlims = [0,0], ylims = [0,0], log = [0,0])\n",
    "\n",
    "cp =ax.contour(xbins_centers, ybins_centers, counts_num.T)\n",
    "ax.clabel(cp, inline=True, fontsize=12)\n",
    "ax.scatter([xbins_centers[start_idc[0]]], [ybins_centers[start_idc[1]]])\n",
    "\n",
    "ax.plot([xbins_centers[xmin], xbins_centers[xmin]], [ybins_centers[ymin], ybins_centers[ymax]], color = 'black')\n",
    "ax.plot([xbins_centers[xmax], xbins_centers[xmax]], [ybins_centers[ymin], ybins_centers[ymax]], color = 'black')\n",
    "ax.plot([xbins_centers[xmin], xbins_centers[xmax]], [ybins_centers[ymin], ybins_centers[ymin]], color = 'black')\n",
    "ax.plot([xbins_centers[xmin], xbins_centers[xmax]], [ybins_centers[ymax], ybins_centers[ymax]], color = 'black')\n"
   ]
  },
  {
   "cell_type": "markdown",
   "metadata": {},
   "source": [
    "# TEST EXAMPLE"
   ]
  },
  {
   "cell_type": "code",
   "execution_count": 3,
   "metadata": {},
   "outputs": [
    {
     "data": {
      "text/html": [
       "<div>\n",
       "<style scoped>\n",
       "    .dataframe tbody tr th:only-of-type {\n",
       "        vertical-align: middle;\n",
       "    }\n",
       "\n",
       "    .dataframe tbody tr th {\n",
       "        vertical-align: top;\n",
       "    }\n",
       "\n",
       "    .dataframe thead th {\n",
       "        text-align: right;\n",
       "    }\n",
       "</style>\n",
       "<table border=\"1\" class=\"dataframe\">\n",
       "  <thead>\n",
       "    <tr style=\"text-align: right;\">\n",
       "      <th></th>\n",
       "      <th>0</th>\n",
       "      <th>1</th>\n",
       "      <th>2</th>\n",
       "      <th>3</th>\n",
       "      <th>4</th>\n",
       "      <th>5</th>\n",
       "      <th>6</th>\n",
       "      <th>7</th>\n",
       "      <th>8</th>\n",
       "      <th>9</th>\n",
       "      <th>10</th>\n",
       "      <th>11</th>\n",
       "      <th>12</th>\n",
       "      <th>13</th>\n",
       "      <th>14</th>\n",
       "      <th>15</th>\n",
       "    </tr>\n",
       "  </thead>\n",
       "  <tbody>\n",
       "    <tr>\n",
       "      <th>0</th>\n",
       "      <td>0.629841</td>\n",
       "      <td>0.271959</td>\n",
       "      <td>0.930468</td>\n",
       "      <td>0.830408</td>\n",
       "      <td>0.229552</td>\n",
       "      <td>0.301953</td>\n",
       "      <td>0.949703</td>\n",
       "      <td>0.973384</td>\n",
       "      <td>0.591360</td>\n",
       "      <td>0.803560</td>\n",
       "      <td>0.521185</td>\n",
       "      <td>0.654780</td>\n",
       "      <td>0.997397</td>\n",
       "      <td>0.748764</td>\n",
       "      <td>0.752572</td>\n",
       "      <td>0.831374</td>\n",
       "    </tr>\n",
       "    <tr>\n",
       "      <th>1</th>\n",
       "      <td>0.300715</td>\n",
       "      <td>0.060128</td>\n",
       "      <td>0.714713</td>\n",
       "      <td>0.513394</td>\n",
       "      <td>0.206821</td>\n",
       "      <td>0.148100</td>\n",
       "      <td>0.771740</td>\n",
       "      <td>0.259056</td>\n",
       "      <td>0.390602</td>\n",
       "      <td>0.113677</td>\n",
       "      <td>0.656241</td>\n",
       "      <td>0.296383</td>\n",
       "      <td>0.477430</td>\n",
       "      <td>0.130373</td>\n",
       "      <td>0.936611</td>\n",
       "      <td>0.888897</td>\n",
       "    </tr>\n",
       "    <tr>\n",
       "      <th>2</th>\n",
       "      <td>0.472428</td>\n",
       "      <td>0.236047</td>\n",
       "      <td>0.041870</td>\n",
       "      <td>0.666633</td>\n",
       "      <td>0.442006</td>\n",
       "      <td>0.694295</td>\n",
       "      <td>0.991736</td>\n",
       "      <td>0.974574</td>\n",
       "      <td>0.512320</td>\n",
       "      <td>0.645423</td>\n",
       "      <td>0.981179</td>\n",
       "      <td>0.513656</td>\n",
       "      <td>0.571924</td>\n",
       "      <td>0.075580</td>\n",
       "      <td>0.625564</td>\n",
       "      <td>0.044443</td>\n",
       "    </tr>\n",
       "    <tr>\n",
       "      <th>3</th>\n",
       "      <td>0.916061</td>\n",
       "      <td>0.215857</td>\n",
       "      <td>0.486534</td>\n",
       "      <td>0.795705</td>\n",
       "      <td>0.575686</td>\n",
       "      <td>0.897886</td>\n",
       "      <td>0.207333</td>\n",
       "      <td>0.110702</td>\n",
       "      <td>0.784256</td>\n",
       "      <td>0.849264</td>\n",
       "      <td>0.098639</td>\n",
       "      <td>0.908588</td>\n",
       "      <td>0.649100</td>\n",
       "      <td>0.402318</td>\n",
       "      <td>0.068989</td>\n",
       "      <td>0.863329</td>\n",
       "    </tr>\n",
       "    <tr>\n",
       "      <th>4</th>\n",
       "      <td>0.446750</td>\n",
       "      <td>0.588699</td>\n",
       "      <td>0.970719</td>\n",
       "      <td>0.440503</td>\n",
       "      <td>0.816993</td>\n",
       "      <td>0.766565</td>\n",
       "      <td>0.403790</td>\n",
       "      <td>0.073335</td>\n",
       "      <td>0.850665</td>\n",
       "      <td>0.943222</td>\n",
       "      <td>0.674332</td>\n",
       "      <td>0.760947</td>\n",
       "      <td>0.702660</td>\n",
       "      <td>0.852877</td>\n",
       "      <td>0.768827</td>\n",
       "      <td>0.270820</td>\n",
       "    </tr>\n",
       "    <tr>\n",
       "      <th>5</th>\n",
       "      <td>0.103369</td>\n",
       "      <td>0.197168</td>\n",
       "      <td>0.573887</td>\n",
       "      <td>0.030774</td>\n",
       "      <td>0.444000</td>\n",
       "      <td>0.047644</td>\n",
       "      <td>0.247198</td>\n",
       "      <td>0.430802</td>\n",
       "      <td>0.790592</td>\n",
       "      <td>0.428334</td>\n",
       "      <td>0.715072</td>\n",
       "      <td>0.488540</td>\n",
       "      <td>0.439765</td>\n",
       "      <td>0.423493</td>\n",
       "      <td>0.521869</td>\n",
       "      <td>0.993513</td>\n",
       "    </tr>\n",
       "    <tr>\n",
       "      <th>6</th>\n",
       "      <td>0.715454</td>\n",
       "      <td>0.400109</td>\n",
       "      <td>0.831936</td>\n",
       "      <td>0.211247</td>\n",
       "      <td>0.215765</td>\n",
       "      <td>0.786783</td>\n",
       "      <td>0.192206</td>\n",
       "      <td>0.847489</td>\n",
       "      <td>0.121744</td>\n",
       "      <td>0.947669</td>\n",
       "      <td>0.326421</td>\n",
       "      <td>0.207792</td>\n",
       "      <td>0.712502</td>\n",
       "      <td>0.205450</td>\n",
       "      <td>0.102283</td>\n",
       "      <td>0.451204</td>\n",
       "    </tr>\n",
       "    <tr>\n",
       "      <th>7</th>\n",
       "      <td>0.786175</td>\n",
       "      <td>0.213341</td>\n",
       "      <td>0.645898</td>\n",
       "      <td>0.827089</td>\n",
       "      <td>0.447296</td>\n",
       "      <td>0.324366</td>\n",
       "      <td>0.970724</td>\n",
       "      <td>0.073180</td>\n",
       "      <td>0.114167</td>\n",
       "      <td>0.289141</td>\n",
       "      <td>0.778172</td>\n",
       "      <td>0.674577</td>\n",
       "      <td>0.997229</td>\n",
       "      <td>0.620430</td>\n",
       "      <td>0.361917</td>\n",
       "      <td>0.062541</td>\n",
       "    </tr>\n",
       "    <tr>\n",
       "      <th>8</th>\n",
       "      <td>0.309837</td>\n",
       "      <td>0.816068</td>\n",
       "      <td>0.964049</td>\n",
       "      <td>0.884076</td>\n",
       "      <td>0.778919</td>\n",
       "      <td>0.971195</td>\n",
       "      <td>0.763659</td>\n",
       "      <td>0.845579</td>\n",
       "      <td>0.700663</td>\n",
       "      <td>0.222162</td>\n",
       "      <td>0.012025</td>\n",
       "      <td>0.890618</td>\n",
       "      <td>0.061935</td>\n",
       "      <td>0.829162</td>\n",
       "      <td>0.398405</td>\n",
       "      <td>0.198833</td>\n",
       "    </tr>\n",
       "    <tr>\n",
       "      <th>9</th>\n",
       "      <td>0.856034</td>\n",
       "      <td>0.669102</td>\n",
       "      <td>0.586891</td>\n",
       "      <td>0.484476</td>\n",
       "      <td>0.491917</td>\n",
       "      <td>0.452106</td>\n",
       "      <td>0.251516</td>\n",
       "      <td>0.976745</td>\n",
       "      <td>0.149438</td>\n",
       "      <td>0.746272</td>\n",
       "      <td>0.533510</td>\n",
       "      <td>0.138063</td>\n",
       "      <td>0.405025</td>\n",
       "      <td>0.706857</td>\n",
       "      <td>0.039995</td>\n",
       "      <td>0.985822</td>\n",
       "    </tr>\n",
       "    <tr>\n",
       "      <th>10</th>\n",
       "      <td>0.240947</td>\n",
       "      <td>0.932805</td>\n",
       "      <td>0.135002</td>\n",
       "      <td>0.728241</td>\n",
       "      <td>0.919956</td>\n",
       "      <td>0.688877</td>\n",
       "      <td>0.272419</td>\n",
       "      <td>0.783219</td>\n",
       "      <td>0.403335</td>\n",
       "      <td>0.922925</td>\n",
       "      <td>0.066568</td>\n",
       "      <td>0.453847</td>\n",
       "      <td>0.187961</td>\n",
       "      <td>0.836606</td>\n",
       "      <td>0.129642</td>\n",
       "      <td>0.399211</td>\n",
       "    </tr>\n",
       "    <tr>\n",
       "      <th>11</th>\n",
       "      <td>0.891057</td>\n",
       "      <td>0.889947</td>\n",
       "      <td>0.724174</td>\n",
       "      <td>0.348891</td>\n",
       "      <td>0.464660</td>\n",
       "      <td>0.101267</td>\n",
       "      <td>0.520395</td>\n",
       "      <td>0.429041</td>\n",
       "      <td>0.098148</td>\n",
       "      <td>0.385784</td>\n",
       "      <td>0.242226</td>\n",
       "      <td>0.188654</td>\n",
       "      <td>0.541809</td>\n",
       "      <td>0.012008</td>\n",
       "      <td>0.334854</td>\n",
       "      <td>0.384231</td>\n",
       "    </tr>\n",
       "    <tr>\n",
       "      <th>12</th>\n",
       "      <td>0.033097</td>\n",
       "      <td>0.960396</td>\n",
       "      <td>0.683467</td>\n",
       "      <td>0.585271</td>\n",
       "      <td>0.564076</td>\n",
       "      <td>0.514295</td>\n",
       "      <td>0.658783</td>\n",
       "      <td>0.012348</td>\n",
       "      <td>0.969168</td>\n",
       "      <td>0.397626</td>\n",
       "      <td>0.442606</td>\n",
       "      <td>0.948082</td>\n",
       "      <td>0.924564</td>\n",
       "      <td>0.235681</td>\n",
       "      <td>0.063350</td>\n",
       "      <td>0.182922</td>\n",
       "    </tr>\n",
       "    <tr>\n",
       "      <th>13</th>\n",
       "      <td>0.307186</td>\n",
       "      <td>0.154967</td>\n",
       "      <td>0.800799</td>\n",
       "      <td>0.996564</td>\n",
       "      <td>0.206331</td>\n",
       "      <td>0.616797</td>\n",
       "      <td>0.858922</td>\n",
       "      <td>0.696545</td>\n",
       "      <td>0.651491</td>\n",
       "      <td>0.535852</td>\n",
       "      <td>0.085433</td>\n",
       "      <td>0.445534</td>\n",
       "      <td>0.919186</td>\n",
       "      <td>0.058463</td>\n",
       "      <td>0.609508</td>\n",
       "      <td>0.165799</td>\n",
       "    </tr>\n",
       "    <tr>\n",
       "      <th>14</th>\n",
       "      <td>0.687295</td>\n",
       "      <td>0.093539</td>\n",
       "      <td>0.528763</td>\n",
       "      <td>0.280797</td>\n",
       "      <td>0.734251</td>\n",
       "      <td>0.411141</td>\n",
       "      <td>0.544176</td>\n",
       "      <td>0.203385</td>\n",
       "      <td>0.268946</td>\n",
       "      <td>0.711227</td>\n",
       "      <td>0.566263</td>\n",
       "      <td>0.803089</td>\n",
       "      <td>0.052353</td>\n",
       "      <td>0.685098</td>\n",
       "      <td>0.896729</td>\n",
       "      <td>0.667688</td>\n",
       "    </tr>\n",
       "    <tr>\n",
       "      <th>15</th>\n",
       "      <td>0.517241</td>\n",
       "      <td>0.456174</td>\n",
       "      <td>0.847843</td>\n",
       "      <td>0.253832</td>\n",
       "      <td>0.439414</td>\n",
       "      <td>0.149230</td>\n",
       "      <td>0.492813</td>\n",
       "      <td>0.913859</td>\n",
       "      <td>0.075254</td>\n",
       "      <td>0.271188</td>\n",
       "      <td>0.640661</td>\n",
       "      <td>0.205415</td>\n",
       "      <td>0.649466</td>\n",
       "      <td>0.510873</td>\n",
       "      <td>0.069500</td>\n",
       "      <td>0.296240</td>\n",
       "    </tr>\n",
       "  </tbody>\n",
       "</table>\n",
       "</div>"
      ],
      "text/plain": [
       "          0         1         2         3         4         5         6   \\\n",
       "0   0.629841  0.271959  0.930468  0.830408  0.229552  0.301953  0.949703   \n",
       "1   0.300715  0.060128  0.714713  0.513394  0.206821  0.148100  0.771740   \n",
       "2   0.472428  0.236047  0.041870  0.666633  0.442006  0.694295  0.991736   \n",
       "3   0.916061  0.215857  0.486534  0.795705  0.575686  0.897886  0.207333   \n",
       "4   0.446750  0.588699  0.970719  0.440503  0.816993  0.766565  0.403790   \n",
       "5   0.103369  0.197168  0.573887  0.030774  0.444000  0.047644  0.247198   \n",
       "6   0.715454  0.400109  0.831936  0.211247  0.215765  0.786783  0.192206   \n",
       "7   0.786175  0.213341  0.645898  0.827089  0.447296  0.324366  0.970724   \n",
       "8   0.309837  0.816068  0.964049  0.884076  0.778919  0.971195  0.763659   \n",
       "9   0.856034  0.669102  0.586891  0.484476  0.491917  0.452106  0.251516   \n",
       "10  0.240947  0.932805  0.135002  0.728241  0.919956  0.688877  0.272419   \n",
       "11  0.891057  0.889947  0.724174  0.348891  0.464660  0.101267  0.520395   \n",
       "12  0.033097  0.960396  0.683467  0.585271  0.564076  0.514295  0.658783   \n",
       "13  0.307186  0.154967  0.800799  0.996564  0.206331  0.616797  0.858922   \n",
       "14  0.687295  0.093539  0.528763  0.280797  0.734251  0.411141  0.544176   \n",
       "15  0.517241  0.456174  0.847843  0.253832  0.439414  0.149230  0.492813   \n",
       "\n",
       "          7         8         9         10        11        12        13  \\\n",
       "0   0.973384  0.591360  0.803560  0.521185  0.654780  0.997397  0.748764   \n",
       "1   0.259056  0.390602  0.113677  0.656241  0.296383  0.477430  0.130373   \n",
       "2   0.974574  0.512320  0.645423  0.981179  0.513656  0.571924  0.075580   \n",
       "3   0.110702  0.784256  0.849264  0.098639  0.908588  0.649100  0.402318   \n",
       "4   0.073335  0.850665  0.943222  0.674332  0.760947  0.702660  0.852877   \n",
       "5   0.430802  0.790592  0.428334  0.715072  0.488540  0.439765  0.423493   \n",
       "6   0.847489  0.121744  0.947669  0.326421  0.207792  0.712502  0.205450   \n",
       "7   0.073180  0.114167  0.289141  0.778172  0.674577  0.997229  0.620430   \n",
       "8   0.845579  0.700663  0.222162  0.012025  0.890618  0.061935  0.829162   \n",
       "9   0.976745  0.149438  0.746272  0.533510  0.138063  0.405025  0.706857   \n",
       "10  0.783219  0.403335  0.922925  0.066568  0.453847  0.187961  0.836606   \n",
       "11  0.429041  0.098148  0.385784  0.242226  0.188654  0.541809  0.012008   \n",
       "12  0.012348  0.969168  0.397626  0.442606  0.948082  0.924564  0.235681   \n",
       "13  0.696545  0.651491  0.535852  0.085433  0.445534  0.919186  0.058463   \n",
       "14  0.203385  0.268946  0.711227  0.566263  0.803089  0.052353  0.685098   \n",
       "15  0.913859  0.075254  0.271188  0.640661  0.205415  0.649466  0.510873   \n",
       "\n",
       "          14        15  \n",
       "0   0.752572  0.831374  \n",
       "1   0.936611  0.888897  \n",
       "2   0.625564  0.044443  \n",
       "3   0.068989  0.863329  \n",
       "4   0.768827  0.270820  \n",
       "5   0.521869  0.993513  \n",
       "6   0.102283  0.451204  \n",
       "7   0.361917  0.062541  \n",
       "8   0.398405  0.198833  \n",
       "9   0.039995  0.985822  \n",
       "10  0.129642  0.399211  \n",
       "11  0.334854  0.384231  \n",
       "12  0.063350  0.182922  \n",
       "13  0.609508  0.165799  \n",
       "14  0.896729  0.667688  \n",
       "15  0.069500  0.296240  "
      ]
     },
     "execution_count": 3,
     "metadata": {},
     "output_type": "execute_result"
    }
   ],
   "source": [
    "N = 16\n",
    "test_arr = [[random.random() for i in range(N)] for j in range(N)]\n",
    "test_df = pd.DataFrame(test_arr)\n",
    "test_df"
   ]
  },
  {
   "cell_type": "code",
   "execution_count": 61,
   "metadata": {},
   "outputs": [
    {
     "name": "stdout",
     "output_type": "stream",
     "text": [
      "all_index =  [(5, 4), (5, 5), (5, 6), (6, 4), (6, 5), (6, 6), (7, 4), (7, 5), (7, 6)] len =  9 \n",
      "valid_all_index =  [(5, 4), (5, 5), (5, 6), (6, 4), (6, 5), (6, 6), (7, 4), (7, 5), (7, 6)] len =  9 \n",
      "previous_index =  [(6, 5)] len =  1 \n",
      "new_index =  [(7, 4), (5, 5), (5, 4), (6, 4), (7, 6), (5, 6), (6, 6), (7, 5)] len =  8 \n",
      "valid_new_index =  [(7, 4), (5, 5), (5, 4), (6, 4), (7, 6), (5, 6), (6, 6), (7, 5)] len =  8\n",
      "start at (6, 5) 3.6759814592061986 \n",
      "\n",
      "all_index =  [(4, 3), (4, 4), (4, 5), (4, 6), (4, 7), (5, 3), (5, 4), (5, 5), (5, 6), (5, 7), (6, 3), (6, 4), (6, 5), (6, 6), (6, 7), (7, 3), (7, 4), (7, 5), (7, 6), (7, 7), (8, 3), (8, 4), (8, 5), (8, 6), (8, 7)] len =  25 \n",
      "valid_all_index =  [(4, 3), (4, 4), (4, 5), (4, 6), (4, 7), (5, 3), (5, 4), (5, 5), (5, 6), (5, 7), (6, 3), (6, 4), (6, 5), (6, 6), (6, 7), (7, 3), (7, 4), (7, 5), (7, 6), (7, 7), (8, 3), (8, 4), (8, 5), (8, 6), (8, 7)] len =  25 \n",
      "previous_index =  [(5, 4), (5, 5), (5, 6), (6, 4), (6, 5), (6, 6), (7, 4), (7, 5), (7, 6)] len =  9 \n",
      "new_index =  [(4, 3), (4, 6), (5, 7), (7, 3), (6, 7), (8, 3), (8, 6), (4, 7), (4, 4), (8, 4), (7, 7), (8, 7), (4, 5), (5, 3), (6, 3), (8, 5)] len =  16 \n",
      "valid_new_index =  [(4, 3), (4, 6), (5, 7), (7, 3), (6, 7), (8, 3), (8, 6), (4, 7), (4, 4), (8, 4), (7, 7), (8, 7), (4, 5), (5, 3), (6, 3), (8, 5)] len =  16\n",
      "start at (6, 5) 12.841176288123027 \n",
      "\n"
     ]
    },
    {
     "data": {
      "image/png": "[encoded data removed]",
      "text/plain": [
       "<Figure size 432x432 with 1 Axes>"
      ]
     },
     "metadata": {
      "needs_background": "light"
     },
     "output_type": "display_data"
    }
   ],
   "source": [
    "summation_test, (xmin_test, xmax_test), (ymin_test, ymax_test) = get_grid_index(test_df, (6,5), 10, plot=True, print_check = True, plot_maxDFsize = 300)"
   ]
  },
  {
   "cell_type": "code",
   "execution_count": 63,
   "metadata": {},
   "outputs": [
    {
     "data": {
      "text/plain": [
       "(12.841176288123027, (4, 8), (3, 7), array([16]))"
      ]
     },
     "execution_count": 63,
     "metadata": {},
     "output_type": "execute_result"
    }
   ],
   "source": [
    "total_subbins_test = np.diff((xmin_test, xmax_test))*np.diff((ymin_test, ymax_test))\n",
    "summation_test, (xmin_test, xmax_test), (ymin_test, ymax_test), total_subbins_test"
   ]
  },
  {
   "cell_type": "code",
   "execution_count": null,
   "metadata": {},
   "outputs": [],
   "source": []
  }
 ],
 "metadata": {
  "kernelspec": {
   "display_name": "Python 3 (ipykernel)",
   "language": "python",
   "name": "python3"
  },
  "language_info": {
   "codemirror_mode": {
    "name": "ipython",
    "version": 3
   },
   "file_extension": ".py",
   "mimetype": "text/x-python",
   "name": "python",
   "nbconvert_exporter": "python",
   "pygments_lexer": "ipython3",
   "version": "3.8.10"
  }
 },
 "nbformat": 4,
 "nbformat_minor": 4
}
